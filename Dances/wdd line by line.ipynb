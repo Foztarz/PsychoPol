{
 "cells": [
  {
   "cell_type": "markdown",
   "id": "0ccfe9c9-50e5-4214-98b9-3fed034f7159",
   "metadata": {},
   "source": [
    "# Troubleshooting Bees Book Waggle Dance Detector\n",
    "Everything here works to some extent\n",
    "\n",
    "## Start by loading packages"
   ]
  },
  {
   "cell_type": "code",
   "execution_count": 1,
   "id": "16402376-4328-4620-b2a2-2a9d0d508bd0",
   "metadata": {},
   "outputs": [
    {
     "name": "stdout",
     "output_type": "stream",
     "text": [
      "Unable to import PyCapture2, Flea3 cameras won't work\n"
     ]
    }
   ],
   "source": [
    "import cv2\n",
    "import os\n",
    "import sys\n",
    "import time\n",
    "import numpy as np\n",
    "from imageio import imsave\n",
    "\n",
    "from multiprocessing_generator import ParallelGenerator\n",
    "from skimage.transform import resize\n",
    "\n",
    "from wdd.camera import OpenCVCapture, Flea3Capture, cam_generator\n",
    "from wdd.processing import FrequencyDetector, WaggleDetector\n",
    "from wdd.export import WaggleExporter"
   ]
  },
  {
   "cell_type": "markdown",
   "id": "faa84e6d-4fc2-45a3-8f2b-e6d7240f1030",
   "metadata": {},
   "source": [
    "## Keep everything in user's \"Documents\" folder"
   ]
  },
  {
   "cell_type": "code",
   "execution_count": 2,
   "id": "f6b34b0d-bb16-4771-99a9-325bf019b143",
   "metadata": {},
   "outputs": [],
   "source": [
    "dcmt = os.getenv('USERPROFILE') + '/Documents'\n",
    "os.chdir(dcmt)"
   ]
  },
  {
   "cell_type": "markdown",
   "id": "f95e5af4-3ca0-4ce1-93f8-a0198ae60bdd",
   "metadata": {},
   "source": [
    "## Run the \"main\" function section by section\n",
    "### Set up the main input variables.\n",
    "These seem not to be ideal for the videos I have."
   ]
  },
  {
   "cell_type": "code",
   "execution_count": 3,
   "id": "cc226e13-8852-4cf3-bd47-5ce222b4df4b",
   "metadata": {},
   "outputs": [],
   "source": [
    "# def main(capture_type, video_device, height, width, fps, bee_length, binarization_threshold, max_frame_distance, \n",
    "         # min_num_detections, output_path, cam_identifier, background_path, debug, debug_frames):\n",
    "\n",
    "\n",
    "# FIXME: should be proportional to fps (how fast can a bee move in one frame while dancing)\n",
    "capture_type = 'OpenCV'\n",
    "video_device = 'DanceResults/justbees.mp4'#'DanceResults/WDD2019_sample.mp4'\n",
    "height=180\n",
    "width=342\n",
    "fps=60\n",
    "bee_length=7\n",
    "binarization_threshold=6\n",
    "max_frame_distance=0.2\n",
    "min_num_detections=0.1\n",
    "output_path= 'DanceResults'\n",
    "cam_identifier=1\n",
    "background_path='DanceResults'\n",
    "debug=True\n",
    "debug_frames=11"
   ]
  },
  {
   "cell_type": "markdown",
   "id": "edfb13bb-442b-4830-ac63-618d858b4cf4",
   "metadata": {},
   "source": [
    "### Derived variables"
   ]
  },
  {
   "cell_type": "code",
   "execution_count": 4,
   "id": "4d27e56e-5ecc-4e2e-b988-182af1d67988",
   "metadata": {},
   "outputs": [],
   "source": [
    "max_distance = bee_length\n",
    "binarization_threshold = np.expm1(binarization_threshold)\n",
    "max_frame_distance = max_frame_distance * fps\n",
    "min_num_detections = min_num_detections * fps\n",
    "\n",
    "if capture_type == 'OpenCV':\n",
    "    cam_obj = OpenCVCapture\n",
    "elif capture_type == 'PyCapture2':\n",
    "    cam_obj = Flea3Capture\n",
    "else:\n",
    "    raise RuntimeError('capture_type must be either OpenCV or PyCapture2')"
   ]
  },
  {
   "cell_type": "markdown",
   "id": "d69d6e73-30e9-4376-bbb7-7dde72394ea2",
   "metadata": {},
   "source": [
    "## Frame Generator would normally be passed to ParallelGenerator\n",
    "I'm avoiding this because it crashes for reasons that remain unclear."
   ]
  },
  {
   "cell_type": "code",
   "execution_count": 5,
   "id": "0596bd20-9a1b-44da-87b0-9131b51e8df9",
   "metadata": {},
   "outputs": [],
   "source": [
    "frame_generator = cam_generator(cam_obj, warmup=False, width=width, height=height, fps=fps, device=video_device,\n",
    "                                background=None, fullframe_path=None)\n",
    "_, _, frame_orig, _ = next(frame_generator)"
   ]
  },
  {
   "cell_type": "markdown",
   "id": "52e922b0-5105-4c5b-9a7b-8f041ebf7ba5",
   "metadata": {},
   "source": [
    "### More derived variables"
   ]
  },
  {
   "cell_type": "code",
   "execution_count": 6,
   "id": "3899a948-530a-4faa-81e8-63592dd8cfac",
   "metadata": {},
   "outputs": [],
   "source": [
    "full_frame_buffer_roi_size = bee_length * 10\n",
    "pad_size = full_frame_buffer_roi_size // 2\n",
    "full_frame_buffer_len = 100\n",
    "full_frame_buffer = np.zeros((full_frame_buffer_len, frame_orig.shape[0] + 2 * pad_size, frame_orig.shape[1] + 2 * pad_size), dtype=np.uint8)\n",
    "\n",
    "frame_scale = frame_orig.shape[0] / height, frame_orig.shape[1] / width"
   ]
  },
  {
   "cell_type": "markdown",
   "id": "0c2f38dd-fd03-4106-bf3d-d1582825103a",
   "metadata": {},
   "source": [
    "## Set up dance detection functions"
   ]
  },
  {
   "cell_type": "code",
   "execution_count": 7,
   "id": "8827665d-904b-4d8f-bb55-c1dcf97af462",
   "metadata": {},
   "outputs": [],
   "source": [
    "dd = FrequencyDetector(height=height, width=width, fps=fps)\n",
    "exporter = WaggleExporter(cam_id=cam_identifier, output_path=output_path, full_frame_buffer=full_frame_buffer,\n",
    "                          full_frame_buffer_len=full_frame_buffer_len, full_frame_buffer_roi_size=full_frame_buffer_roi_size)\n",
    "wd = WaggleDetector(max_distance=max_distance, binarization_threshold=binarization_threshold, \n",
    "                    max_frame_distance=max_frame_distance, min_num_detections=min_num_detections,\n",
    "                    dilation_selem_radius=7, exporter=exporter)"
   ]
  },
  {
   "cell_type": "markdown",
   "id": "c82dba02-0576-4fe0-aa8a-8fcf0305b227",
   "metadata": {},
   "source": [
    "## Make sure the video has a background\n",
    "Not clear what the fullframe path is used for"
   ]
  },
  {
   "cell_type": "code",
   "execution_count": 8,
   "id": "093182fd-abe5-4e8d-8718-7232734f56f9",
   "metadata": {},
   "outputs": [
    {
     "name": "stdout",
     "output_type": "stream",
     "text": [
      "Loading background image: DanceResults\\background_1.npy\n"
     ]
    }
   ],
   "source": [
    "\n",
    "background_file = os.path.join(background_path, 'background_{}.npy'.format(cam_identifier))\n",
    "if os.path.exists(background_file):\n",
    "    print('Loading background image: {}'.format(background_file))\n",
    "    background = np.load(background_file)\n",
    "else:\n",
    "    print('No background image found for {}, starting from scratch'.format(cam_identifier))\n",
    "    background = None\n",
    "\n",
    "fullframe_path = os.path.join(output_path, 'fullframes')\n",
    "if not os.path.exists(fullframe_path):\n",
    "    os.mkdir(fullframe_path)"
   ]
  },
  {
   "cell_type": "markdown",
   "id": "31d6b9a9-85c6-4b7d-8c16-c6b633899c9e",
   "metadata": {},
   "source": [
    "## Set up new version of frame generator\n",
    "Initialise at first frame and current time"
   ]
  },
  {
   "cell_type": "code",
   "execution_count": 9,
   "id": "9e9a2c2a-7d95-4206-a5e2-c0f992421d88",
   "metadata": {},
   "outputs": [],
   "source": [
    "\n",
    "frame_generator = cam_generator(cam_obj, warmup=True, width=width, height=height, fps=fps, device=video_device,\n",
    "                                background=None, fullframe_path=None)\n",
    "\n",
    "frame_idx = 0\n",
    "start_time = time.time()"
   ]
  },
  {
   "cell_type": "markdown",
   "id": "1d89efa1-9f26-4bc3-a53d-e351cc7966e1",
   "metadata": {},
   "source": [
    "## Start the loop"
   ]
  },
  {
   "cell_type": "code",
   "execution_count": 10,
   "id": "32c6c74f-fc0b-4d1b-b775-0a56cb5848a7",
   "metadata": {},
   "outputs": [
    {
     "name": "stdout",
     "output_type": "stream",
     "text": [
      "Camera warmup, FPS target >= 59.4\n",
      "FPS: 216.8 [True]\n",
      "FPS: 236.6 [True]\n",
      "FPS: 210.9 [True]\n",
      "Success\n",
      "\n",
      "Saving background image: DanceResults\\background_1.npy\n",
      "\n",
      "1 - 2021-05-12 15:36:08.781974: Saving new waggle: DanceResults\\1\\2021\\5\\12\\15\\36\\0\n"
     ]
    },
    {
     "ename": "IndexError",
     "evalue": "cannot do a non-empty take from an empty axes.",
     "output_type": "error",
     "traceback": [
      "\u001b[1;31m---------------------------------------------------------------------------\u001b[0m",
      "\u001b[1;31mIndexError\u001b[0m                                Traceback (most recent call last)",
      "\u001b[1;32m<ipython-input-10-81bb5b70a895>\u001b[0m in \u001b[0;36m<module>\u001b[1;34m\u001b[0m\n\u001b[0;32m     14\u001b[0m         \u001b[1;32mif\u001b[0m \u001b[0mr\u001b[0m \u001b[1;32mis\u001b[0m \u001b[1;32mnot\u001b[0m \u001b[1;32mNone\u001b[0m\u001b[1;33m:\u001b[0m\u001b[1;33m\u001b[0m\u001b[1;33m\u001b[0m\u001b[0m\n\u001b[0;32m     15\u001b[0m                 \u001b[0mactivity\u001b[0m\u001b[1;33m,\u001b[0m \u001b[0mframe_diff\u001b[0m \u001b[1;33m=\u001b[0m \u001b[0mr\u001b[0m\u001b[1;33m\u001b[0m\u001b[1;33m\u001b[0m\u001b[0m\n\u001b[1;32m---> 16\u001b[1;33m                 \u001b[0mwd\u001b[0m\u001b[1;33m.\u001b[0m\u001b[0mprocess\u001b[0m\u001b[1;33m(\u001b[0m\u001b[0mframe_idx\u001b[0m\u001b[1;33m,\u001b[0m \u001b[0mactivity\u001b[0m\u001b[1;33m)\u001b[0m\u001b[1;33m\u001b[0m\u001b[1;33m\u001b[0m\u001b[0m\n\u001b[0m\u001b[0;32m     17\u001b[0m         \u001b[1;31m# print(frame_idx)\u001b[0m\u001b[1;33m\u001b[0m\u001b[1;33m\u001b[0m\u001b[1;33m\u001b[0m\u001b[0m\n\u001b[0;32m     18\u001b[0m         \u001b[1;32mif\u001b[0m \u001b[0mframe_idx\u001b[0m \u001b[1;33m%\u001b[0m \u001b[1;36m10000\u001b[0m \u001b[1;33m==\u001b[0m \u001b[1;36m0\u001b[0m\u001b[1;33m:\u001b[0m\u001b[1;33m\u001b[0m\u001b[1;33m\u001b[0m\u001b[0m\n",
      "\u001b[1;32m~\\Anaconda3\\envs\\WDD\\lib\\site-packages\\wdd\\processing.py\u001b[0m in \u001b[0;36mprocess\u001b[1;34m(self, frame_idx, activity, warmup)\u001b[0m\n\u001b[0;32m    186\u001b[0m \u001b[1;33m\u001b[0m\u001b[0m\n\u001b[0;32m    187\u001b[0m     \u001b[1;32mdef\u001b[0m \u001b[0mprocess\u001b[0m\u001b[1;33m(\u001b[0m\u001b[0mself\u001b[0m\u001b[1;33m,\u001b[0m \u001b[0mframe_idx\u001b[0m\u001b[1;33m,\u001b[0m \u001b[0mactivity\u001b[0m\u001b[1;33m,\u001b[0m \u001b[0mwarmup\u001b[0m\u001b[1;33m=\u001b[0m\u001b[1;36m100\u001b[0m\u001b[1;33m)\u001b[0m\u001b[1;33m:\u001b[0m\u001b[1;33m\u001b[0m\u001b[1;33m\u001b[0m\u001b[0m\n\u001b[1;32m--> 188\u001b[1;33m         \u001b[0mself\u001b[0m\u001b[1;33m.\u001b[0m\u001b[0mfinalize_frames\u001b[0m\u001b[1;33m(\u001b[0m\u001b[0mframe_idx\u001b[0m\u001b[1;33m)\u001b[0m\u001b[1;33m\u001b[0m\u001b[1;33m\u001b[0m\u001b[0m\n\u001b[0m\u001b[0;32m    189\u001b[0m \u001b[1;33m\u001b[0m\u001b[0m\n\u001b[0;32m    190\u001b[0m         \u001b[0mframe_waggle_positions\u001b[0m \u001b[1;33m=\u001b[0m \u001b[0mself\u001b[0m\u001b[1;33m.\u001b[0m\u001b[0m_get_activity_regions\u001b[0m\u001b[1;33m(\u001b[0m\u001b[0mactivity\u001b[0m\u001b[1;33m)\u001b[0m\u001b[1;33m\u001b[0m\u001b[1;33m\u001b[0m\u001b[0m\n",
      "\u001b[1;32m~\\Anaconda3\\envs\\WDD\\lib\\site-packages\\wdd\\processing.py\u001b[0m in \u001b[0;36mfinalize_frames\u001b[1;34m(self, frame_idx)\u001b[0m\n\u001b[0;32m    111\u001b[0m                     \u001b[1;32mif\u001b[0m \u001b[0mself\u001b[0m\u001b[1;33m.\u001b[0m\u001b[0mdebug\u001b[0m\u001b[1;33m:\u001b[0m\u001b[1;33m\u001b[0m\u001b[1;33m\u001b[0m\u001b[0m\n\u001b[0;32m    112\u001b[0m                         \u001b[0mself\u001b[0m\u001b[1;33m.\u001b[0m\u001b[0mfinalized_waggles\u001b[0m\u001b[1;33m.\u001b[0m\u001b[0mappend\u001b[0m\u001b[1;33m(\u001b[0m\u001b[0mwaggle\u001b[0m\u001b[1;33m)\u001b[0m\u001b[1;33m\u001b[0m\u001b[1;33m\u001b[0m\u001b[0m\n\u001b[1;32m--> 113\u001b[1;33m                     \u001b[0mself\u001b[0m\u001b[1;33m.\u001b[0m\u001b[0mexporter\u001b[0m\u001b[1;33m.\u001b[0m\u001b[0mexport\u001b[0m\u001b[1;33m(\u001b[0m\u001b[0mframe_idx\u001b[0m\u001b[1;33m,\u001b[0m \u001b[0mwaggle\u001b[0m\u001b[1;33m)\u001b[0m\u001b[1;33m\u001b[0m\u001b[1;33m\u001b[0m\u001b[0m\n\u001b[0m\u001b[0;32m    114\u001b[0m                     \u001b[1;32mpass\u001b[0m\u001b[1;33m\u001b[0m\u001b[1;33m\u001b[0m\u001b[0m\n\u001b[0;32m    115\u001b[0m                 \u001b[1;32melse\u001b[0m\u001b[1;33m:\u001b[0m\u001b[1;33m\u001b[0m\u001b[1;33m\u001b[0m\u001b[0m\n",
      "\u001b[1;32m~\\Anaconda3\\envs\\WDD\\lib\\site-packages\\wdd\\export.py\u001b[0m in \u001b[0;36mexport\u001b[1;34m(self, frame_idx, waggle)\u001b[0m\n\u001b[0;32m     53\u001b[0m             \u001b[0midx\u001b[0m \u001b[1;33m%=\u001b[0m \u001b[0mself\u001b[0m\u001b[1;33m.\u001b[0m\u001b[0mfull_frame_buffer_len\u001b[0m\u001b[1;33m\u001b[0m\u001b[1;33m\u001b[0m\u001b[0m\n\u001b[0;32m     54\u001b[0m             \u001b[0mroi\u001b[0m \u001b[1;33m=\u001b[0m \u001b[0mself\u001b[0m\u001b[1;33m.\u001b[0m\u001b[0mfull_frame_buffer\u001b[0m\u001b[1;33m[\u001b[0m\u001b[0midx\u001b[0m\u001b[1;33m,\u001b[0m \u001b[0mcenter_x\u001b[0m\u001b[1;33m-\u001b[0m\u001b[0mself\u001b[0m\u001b[1;33m.\u001b[0m\u001b[0mpad_size\u001b[0m\u001b[1;33m:\u001b[0m\u001b[0mcenter_x\u001b[0m\u001b[1;33m+\u001b[0m\u001b[0mself\u001b[0m\u001b[1;33m.\u001b[0m\u001b[0mpad_size\u001b[0m\u001b[1;33m,\u001b[0m \u001b[0mcenter_y\u001b[0m\u001b[1;33m-\u001b[0m\u001b[0mself\u001b[0m\u001b[1;33m.\u001b[0m\u001b[0mpad_size\u001b[0m\u001b[1;33m:\u001b[0m\u001b[0mcenter_y\u001b[0m\u001b[1;33m+\u001b[0m\u001b[0mself\u001b[0m\u001b[1;33m.\u001b[0m\u001b[0mpad_size\u001b[0m\u001b[1;33m]\u001b[0m\u001b[1;33m\u001b[0m\u001b[1;33m\u001b[0m\u001b[0m\n\u001b[1;32m---> 55\u001b[1;33m             \u001b[0mimsave\u001b[0m\u001b[1;33m(\u001b[0m\u001b[0mjoin\u001b[0m\u001b[1;33m(\u001b[0m\u001b[0mwaggle_path\u001b[0m\u001b[1;33m,\u001b[0m \u001b[1;34m'{:03d}.png'\u001b[0m\u001b[1;33m.\u001b[0m\u001b[0mformat\u001b[0m\u001b[1;33m(\u001b[0m\u001b[0mim_idx\u001b[0m\u001b[1;33m)\u001b[0m\u001b[1;33m)\u001b[0m\u001b[1;33m,\u001b[0m \u001b[0mroi\u001b[0m\u001b[1;33m)\u001b[0m\u001b[1;33m\u001b[0m\u001b[1;33m\u001b[0m\u001b[0m\n\u001b[0m",
      "\u001b[1;32m~\\Anaconda3\\envs\\WDD\\lib\\site-packages\\skimage\\io\\_io.py\u001b[0m in \u001b[0;36mimsave\u001b[1;34m(fname, arr, plugin, check_contrast, **plugin_args)\u001b[0m\n\u001b[0;32m    132\u001b[0m              'img_as_ubyte.' % fname, stacklevel=2)\n\u001b[0;32m    133\u001b[0m         \u001b[0marr\u001b[0m \u001b[1;33m=\u001b[0m \u001b[0marr\u001b[0m\u001b[1;33m.\u001b[0m\u001b[0mastype\u001b[0m\u001b[1;33m(\u001b[0m\u001b[1;34m'uint8'\u001b[0m\u001b[1;33m)\u001b[0m \u001b[1;33m*\u001b[0m \u001b[1;36m255\u001b[0m\u001b[1;33m\u001b[0m\u001b[1;33m\u001b[0m\u001b[0m\n\u001b[1;32m--> 134\u001b[1;33m     \u001b[1;32mif\u001b[0m \u001b[0mcheck_contrast\u001b[0m \u001b[1;32mand\u001b[0m \u001b[0mis_low_contrast\u001b[0m\u001b[1;33m(\u001b[0m\u001b[0marr\u001b[0m\u001b[1;33m)\u001b[0m\u001b[1;33m:\u001b[0m\u001b[1;33m\u001b[0m\u001b[1;33m\u001b[0m\u001b[0m\n\u001b[0m\u001b[0;32m    135\u001b[0m         \u001b[0mwarn\u001b[0m\u001b[1;33m(\u001b[0m\u001b[1;34m'%s is a low contrast image'\u001b[0m \u001b[1;33m%\u001b[0m \u001b[0mfname\u001b[0m\u001b[1;33m)\u001b[0m\u001b[1;33m\u001b[0m\u001b[1;33m\u001b[0m\u001b[0m\n\u001b[0;32m    136\u001b[0m     \u001b[1;32mreturn\u001b[0m \u001b[0mcall_plugin\u001b[0m\u001b[1;33m(\u001b[0m\u001b[1;34m'imsave'\u001b[0m\u001b[1;33m,\u001b[0m \u001b[0mfname\u001b[0m\u001b[1;33m,\u001b[0m \u001b[0marr\u001b[0m\u001b[1;33m,\u001b[0m \u001b[0mplugin\u001b[0m\u001b[1;33m=\u001b[0m\u001b[0mplugin\u001b[0m\u001b[1;33m,\u001b[0m \u001b[1;33m**\u001b[0m\u001b[0mplugin_args\u001b[0m\u001b[1;33m)\u001b[0m\u001b[1;33m\u001b[0m\u001b[1;33m\u001b[0m\u001b[0m\n",
      "\u001b[1;32m~\\Anaconda3\\envs\\WDD\\lib\\site-packages\\skimage\\exposure\\exposure.py\u001b[0m in \u001b[0;36mis_low_contrast\u001b[1;34m(image, fraction_threshold, lower_percentile, upper_percentile, method)\u001b[0m\n\u001b[0;32m    635\u001b[0m \u001b[1;33m\u001b[0m\u001b[0m\n\u001b[0;32m    636\u001b[0m     \u001b[0mdlimits\u001b[0m \u001b[1;33m=\u001b[0m \u001b[0mdtype_limits\u001b[0m\u001b[1;33m(\u001b[0m\u001b[0mimage\u001b[0m\u001b[1;33m,\u001b[0m \u001b[0mclip_negative\u001b[0m\u001b[1;33m=\u001b[0m\u001b[1;32mFalse\u001b[0m\u001b[1;33m)\u001b[0m\u001b[1;33m\u001b[0m\u001b[1;33m\u001b[0m\u001b[0m\n\u001b[1;32m--> 637\u001b[1;33m     \u001b[0mlimits\u001b[0m \u001b[1;33m=\u001b[0m \u001b[0mnp\u001b[0m\u001b[1;33m.\u001b[0m\u001b[0mpercentile\u001b[0m\u001b[1;33m(\u001b[0m\u001b[0mimage\u001b[0m\u001b[1;33m,\u001b[0m \u001b[1;33m[\u001b[0m\u001b[0mlower_percentile\u001b[0m\u001b[1;33m,\u001b[0m \u001b[0mupper_percentile\u001b[0m\u001b[1;33m]\u001b[0m\u001b[1;33m)\u001b[0m\u001b[1;33m\u001b[0m\u001b[1;33m\u001b[0m\u001b[0m\n\u001b[0m\u001b[0;32m    638\u001b[0m     \u001b[0mratio\u001b[0m \u001b[1;33m=\u001b[0m \u001b[1;33m(\u001b[0m\u001b[0mlimits\u001b[0m\u001b[1;33m[\u001b[0m\u001b[1;36m1\u001b[0m\u001b[1;33m]\u001b[0m \u001b[1;33m-\u001b[0m \u001b[0mlimits\u001b[0m\u001b[1;33m[\u001b[0m\u001b[1;36m0\u001b[0m\u001b[1;33m]\u001b[0m\u001b[1;33m)\u001b[0m \u001b[1;33m/\u001b[0m \u001b[1;33m(\u001b[0m\u001b[0mdlimits\u001b[0m\u001b[1;33m[\u001b[0m\u001b[1;36m1\u001b[0m\u001b[1;33m]\u001b[0m \u001b[1;33m-\u001b[0m \u001b[0mdlimits\u001b[0m\u001b[1;33m[\u001b[0m\u001b[1;36m0\u001b[0m\u001b[1;33m]\u001b[0m\u001b[1;33m)\u001b[0m\u001b[1;33m\u001b[0m\u001b[1;33m\u001b[0m\u001b[0m\n\u001b[0;32m    639\u001b[0m \u001b[1;33m\u001b[0m\u001b[0m\n",
      "\u001b[1;32m<__array_function__ internals>\u001b[0m in \u001b[0;36mpercentile\u001b[1;34m(*args, **kwargs)\u001b[0m\n",
      "\u001b[1;32m~\\Anaconda3\\envs\\WDD\\lib\\site-packages\\numpy\\lib\\function_base.py\u001b[0m in \u001b[0;36mpercentile\u001b[1;34m(a, q, axis, out, overwrite_input, interpolation, keepdims)\u001b[0m\n\u001b[0;32m   3731\u001b[0m         \u001b[1;32mraise\u001b[0m \u001b[0mValueError\u001b[0m\u001b[1;33m(\u001b[0m\u001b[1;34m\"Percentiles must be in the range [0, 100]\"\u001b[0m\u001b[1;33m)\u001b[0m\u001b[1;33m\u001b[0m\u001b[1;33m\u001b[0m\u001b[0m\n\u001b[0;32m   3732\u001b[0m     return _quantile_unchecked(\n\u001b[1;32m-> 3733\u001b[1;33m         a, q, axis, out, overwrite_input, interpolation, keepdims)\n\u001b[0m\u001b[0;32m   3734\u001b[0m \u001b[1;33m\u001b[0m\u001b[0m\n\u001b[0;32m   3735\u001b[0m \u001b[1;33m\u001b[0m\u001b[0m\n",
      "\u001b[1;32m~\\Anaconda3\\envs\\WDD\\lib\\site-packages\\numpy\\lib\\function_base.py\u001b[0m in \u001b[0;36m_quantile_unchecked\u001b[1;34m(a, q, axis, out, overwrite_input, interpolation, keepdims)\u001b[0m\n\u001b[0;32m   3851\u001b[0m     r, k = _ureduce(a, func=_quantile_ureduce_func, q=q, axis=axis, out=out,\n\u001b[0;32m   3852\u001b[0m                     \u001b[0moverwrite_input\u001b[0m\u001b[1;33m=\u001b[0m\u001b[0moverwrite_input\u001b[0m\u001b[1;33m,\u001b[0m\u001b[1;33m\u001b[0m\u001b[1;33m\u001b[0m\u001b[0m\n\u001b[1;32m-> 3853\u001b[1;33m                     interpolation=interpolation)\n\u001b[0m\u001b[0;32m   3854\u001b[0m     \u001b[1;32mif\u001b[0m \u001b[0mkeepdims\u001b[0m\u001b[1;33m:\u001b[0m\u001b[1;33m\u001b[0m\u001b[1;33m\u001b[0m\u001b[0m\n\u001b[0;32m   3855\u001b[0m         \u001b[1;32mreturn\u001b[0m \u001b[0mr\u001b[0m\u001b[1;33m.\u001b[0m\u001b[0mreshape\u001b[0m\u001b[1;33m(\u001b[0m\u001b[0mq\u001b[0m\u001b[1;33m.\u001b[0m\u001b[0mshape\u001b[0m \u001b[1;33m+\u001b[0m \u001b[0mk\u001b[0m\u001b[1;33m)\u001b[0m\u001b[1;33m\u001b[0m\u001b[1;33m\u001b[0m\u001b[0m\n",
      "\u001b[1;32m~\\Anaconda3\\envs\\WDD\\lib\\site-packages\\numpy\\lib\\function_base.py\u001b[0m in \u001b[0;36m_ureduce\u001b[1;34m(a, func, **kwargs)\u001b[0m\n\u001b[0;32m   3427\u001b[0m         \u001b[0mkeepdim\u001b[0m \u001b[1;33m=\u001b[0m \u001b[1;33m(\u001b[0m\u001b[1;36m1\u001b[0m\u001b[1;33m,\u001b[0m\u001b[1;33m)\u001b[0m \u001b[1;33m*\u001b[0m \u001b[0ma\u001b[0m\u001b[1;33m.\u001b[0m\u001b[0mndim\u001b[0m\u001b[1;33m\u001b[0m\u001b[1;33m\u001b[0m\u001b[0m\n\u001b[0;32m   3428\u001b[0m \u001b[1;33m\u001b[0m\u001b[0m\n\u001b[1;32m-> 3429\u001b[1;33m     \u001b[0mr\u001b[0m \u001b[1;33m=\u001b[0m \u001b[0mfunc\u001b[0m\u001b[1;33m(\u001b[0m\u001b[0ma\u001b[0m\u001b[1;33m,\u001b[0m \u001b[1;33m**\u001b[0m\u001b[0mkwargs\u001b[0m\u001b[1;33m)\u001b[0m\u001b[1;33m\u001b[0m\u001b[1;33m\u001b[0m\u001b[0m\n\u001b[0m\u001b[0;32m   3430\u001b[0m     \u001b[1;32mreturn\u001b[0m \u001b[0mr\u001b[0m\u001b[1;33m,\u001b[0m \u001b[0mkeepdim\u001b[0m\u001b[1;33m\u001b[0m\u001b[1;33m\u001b[0m\u001b[0m\n\u001b[0;32m   3431\u001b[0m \u001b[1;33m\u001b[0m\u001b[0m\n",
      "\u001b[1;32m~\\Anaconda3\\envs\\WDD\\lib\\site-packages\\numpy\\lib\\function_base.py\u001b[0m in \u001b[0;36m_quantile_ureduce_func\u001b[1;34m(a, q, axis, out, overwrite_input, interpolation, keepdims)\u001b[0m\n\u001b[0;32m   3965\u001b[0m             \u001b[0mn\u001b[0m \u001b[1;33m=\u001b[0m \u001b[0mnp\u001b[0m\u001b[1;33m.\u001b[0m\u001b[0misnan\u001b[0m\u001b[1;33m(\u001b[0m\u001b[0map\u001b[0m\u001b[1;33m[\u001b[0m\u001b[1;33m-\u001b[0m\u001b[1;36m1\u001b[0m\u001b[1;33m:\u001b[0m\u001b[1;33m,\u001b[0m \u001b[1;33m...\u001b[0m\u001b[1;33m]\u001b[0m\u001b[1;33m)\u001b[0m\u001b[1;33m\u001b[0m\u001b[1;33m\u001b[0m\u001b[0m\n\u001b[0;32m   3966\u001b[0m \u001b[1;33m\u001b[0m\u001b[0m\n\u001b[1;32m-> 3967\u001b[1;33m         \u001b[0mx1\u001b[0m \u001b[1;33m=\u001b[0m \u001b[0mtake\u001b[0m\u001b[1;33m(\u001b[0m\u001b[0map\u001b[0m\u001b[1;33m,\u001b[0m \u001b[0mindices_below\u001b[0m\u001b[1;33m,\u001b[0m \u001b[0maxis\u001b[0m\u001b[1;33m=\u001b[0m\u001b[0maxis\u001b[0m\u001b[1;33m)\u001b[0m \u001b[1;33m*\u001b[0m \u001b[0mweights_below\u001b[0m\u001b[1;33m\u001b[0m\u001b[1;33m\u001b[0m\u001b[0m\n\u001b[0m\u001b[0;32m   3968\u001b[0m         \u001b[0mx2\u001b[0m \u001b[1;33m=\u001b[0m \u001b[0mtake\u001b[0m\u001b[1;33m(\u001b[0m\u001b[0map\u001b[0m\u001b[1;33m,\u001b[0m \u001b[0mindices_above\u001b[0m\u001b[1;33m,\u001b[0m \u001b[0maxis\u001b[0m\u001b[1;33m=\u001b[0m\u001b[0maxis\u001b[0m\u001b[1;33m)\u001b[0m \u001b[1;33m*\u001b[0m \u001b[0mweights_above\u001b[0m\u001b[1;33m\u001b[0m\u001b[1;33m\u001b[0m\u001b[0m\n\u001b[0;32m   3969\u001b[0m \u001b[1;33m\u001b[0m\u001b[0m\n",
      "\u001b[1;32m<__array_function__ internals>\u001b[0m in \u001b[0;36mtake\u001b[1;34m(*args, **kwargs)\u001b[0m\n",
      "\u001b[1;32m~\\Anaconda3\\envs\\WDD\\lib\\site-packages\\numpy\\core\\fromnumeric.py\u001b[0m in \u001b[0;36mtake\u001b[1;34m(a, indices, axis, out, mode)\u001b[0m\n\u001b[0;32m    189\u001b[0m            [5, 7]])\n\u001b[0;32m    190\u001b[0m     \"\"\"\n\u001b[1;32m--> 191\u001b[1;33m     \u001b[1;32mreturn\u001b[0m \u001b[0m_wrapfunc\u001b[0m\u001b[1;33m(\u001b[0m\u001b[0ma\u001b[0m\u001b[1;33m,\u001b[0m \u001b[1;34m'take'\u001b[0m\u001b[1;33m,\u001b[0m \u001b[0mindices\u001b[0m\u001b[1;33m,\u001b[0m \u001b[0maxis\u001b[0m\u001b[1;33m=\u001b[0m\u001b[0maxis\u001b[0m\u001b[1;33m,\u001b[0m \u001b[0mout\u001b[0m\u001b[1;33m=\u001b[0m\u001b[0mout\u001b[0m\u001b[1;33m,\u001b[0m \u001b[0mmode\u001b[0m\u001b[1;33m=\u001b[0m\u001b[0mmode\u001b[0m\u001b[1;33m)\u001b[0m\u001b[1;33m\u001b[0m\u001b[1;33m\u001b[0m\u001b[0m\n\u001b[0m\u001b[0;32m    192\u001b[0m \u001b[1;33m\u001b[0m\u001b[0m\n\u001b[0;32m    193\u001b[0m \u001b[1;33m\u001b[0m\u001b[0m\n",
      "\u001b[1;32m~\\Anaconda3\\envs\\WDD\\lib\\site-packages\\numpy\\core\\fromnumeric.py\u001b[0m in \u001b[0;36m_wrapfunc\u001b[1;34m(obj, method, *args, **kwds)\u001b[0m\n\u001b[0;32m     56\u001b[0m \u001b[1;33m\u001b[0m\u001b[0m\n\u001b[0;32m     57\u001b[0m     \u001b[1;32mtry\u001b[0m\u001b[1;33m:\u001b[0m\u001b[1;33m\u001b[0m\u001b[1;33m\u001b[0m\u001b[0m\n\u001b[1;32m---> 58\u001b[1;33m         \u001b[1;32mreturn\u001b[0m \u001b[0mbound\u001b[0m\u001b[1;33m(\u001b[0m\u001b[1;33m*\u001b[0m\u001b[0margs\u001b[0m\u001b[1;33m,\u001b[0m \u001b[1;33m**\u001b[0m\u001b[0mkwds\u001b[0m\u001b[1;33m)\u001b[0m\u001b[1;33m\u001b[0m\u001b[1;33m\u001b[0m\u001b[0m\n\u001b[0m\u001b[0;32m     59\u001b[0m     \u001b[1;32mexcept\u001b[0m \u001b[0mTypeError\u001b[0m\u001b[1;33m:\u001b[0m\u001b[1;33m\u001b[0m\u001b[1;33m\u001b[0m\u001b[0m\n\u001b[0;32m     60\u001b[0m         \u001b[1;31m# A TypeError occurs if the object does have such a method in its\u001b[0m\u001b[1;33m\u001b[0m\u001b[1;33m\u001b[0m\u001b[1;33m\u001b[0m\u001b[0m\n",
      "\u001b[1;31mIndexError\u001b[0m: cannot do a non-empty take from an empty axes."
     ]
    }
   ],
   "source": [
    "while frame_idx < 1100:\n",
    "    for ret, frame, frame_orig, background in frame_generator:\n",
    "        if frame_idx % 10000 == 0:\n",
    "            start_time = time.time()\n",
    "\n",
    "        if not ret:\n",
    "            print('Unable to retrieve frame from video device')\n",
    "            break\n",
    "\n",
    "        full_frame_buffer[frame_idx % full_frame_buffer_len, pad_size:-pad_size, pad_size:-pad_size] = \\\n",
    "            (((frame_orig + 1) / 2) * 255).astype(np.uint8)\n",
    "\n",
    "        r = dd.process(frame, background)\n",
    "        if r is not None:\n",
    "                activity, frame_diff = r\n",
    "                wd.process(frame_idx, activity)\n",
    "        # print(frame_idx)\n",
    "        if frame_idx % 10000 == 0:\n",
    "                print('\\nSaving background image: {}'.format(background_file))\n",
    "                np.save(background_file, background)\n",
    "\n",
    "        if debug and frame_idx % debug_frames == 0:\n",
    "            current_waggle_num_detections = [len(w.xs) for w in wd.current_waggles]\n",
    "            current_waggle_positions = [(w.ys[-1], w.xs[-1]) for w in wd.current_waggles]\n",
    "            for blob_index, ((y, x), nd) in enumerate(zip(current_waggle_positions, current_waggle_num_detections)):\n",
    "                cv2.circle(frame_orig, (int(x * frame_scale[0]), int(y * frame_scale[1])), 10, (0, 0, 255), 2)\n",
    "\n",
    "            cv2.imshow('WDD', (((frame_orig + 1) / 2) * 255).astype(np.uint8))\n",
    "            cv2.waitKey(1)\n",
    "        if frame_idx % 60 == 0:\n",
    "            end_time = time.time()\n",
    "            processing_fps = ((frame_idx % 10000) + 1) / (end_time - start_time)\n",
    "            #THIS COULD BE THE PROBLEM\n",
    "            # sys.stdout.write('\\rCurrently processing with FPS: {:.1f} | Max DD: {:.2f} | [{:16s} {}]'.format(processing_fps, np.log1p(activity.max()), cam_identifier, video_device))\n",
    "            sys.stdout.flush()\n",
    "\n",
    "        frame_idx = (frame_idx + 1)\n",
    "        # if frame_idx >1800: break\n",
    "\n",
    "# aa = ParallelGenerator(frame_generator, max_lookahead=fps)\n",
    "# for ret, frame, frame_orig, background in gen:\n",
    "#         if frame_idx % 10000 == 0:\n",
    "#             start_time = time.time()\n"
   ]
  },
  {
   "cell_type": "code",
   "execution_count": 11,
   "id": "6aa9dadf-b7c8-44fc-87c8-635cb4d37ca6",
   "metadata": {},
   "outputs": [
    {
     "data": {
      "text/plain": [
       "1202"
      ]
     },
     "execution_count": 11,
     "metadata": {},
     "output_type": "execute_result"
    }
   ],
   "source": [
    "frame_idx"
   ]
  },
  {
   "cell_type": "code",
   "execution_count": null,
   "id": "f0f373b7-1f74-4771-ba16-19e7a041c37e",
   "metadata": {},
   "outputs": [],
   "source": []
  }
 ],
 "metadata": {
  "kernelspec": {
   "display_name": "Python 3",
   "language": "python",
   "name": "python3"
  },
  "language_info": {
   "codemirror_mode": {
    "name": "ipython",
    "version": 3
   },
   "file_extension": ".py",
   "mimetype": "text/x-python",
   "name": "python",
   "nbconvert_exporter": "python",
   "pygments_lexer": "ipython3",
   "version": "3.6.13"
  }
 },
 "nbformat": 4,
 "nbformat_minor": 5
}
